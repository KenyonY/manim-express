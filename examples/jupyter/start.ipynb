{
 "cells": [
  {
   "cell_type": "markdown",
   "metadata": {},
   "source": [
    "Run jupyter's root on manim_ky/ dir."
   ]
  },
  {
   "cell_type": "markdown",
   "metadata": {},
   "source": [
    "# Method 1"
   ]
  },
  {
   "cell_type": "code",
   "execution_count": 1,
   "metadata": {},
   "outputs": [
    {
     "name": "stdout",
     "output_type": "stream",
     "text": [
      "Warning: Using the default configuration file, which you can modify in c:\\baidunetdiskdownload\\code\\manim-kunyuan\\manim_ky\\manimlib\\default_config.yml\n",
      "        If you want to create a local configuration file, you can create a file named custom_config.yml, or run manimgl --config\n",
      "        \n"
     ]
    },
    {
     "name": "stderr",
     "output_type": "stream",
     "text": [
      "                                                                                                                       \r"
     ]
    }
   ],
   "source": [
    "from manimlib import *\n",
    "from express.eager import *\n",
    "from express.utils import m_line, m_scatter\n",
    "import random\n",
    "\n",
    "scene = JupyterModeScene(write_file=False)\n",
    "circle = Circle()\n",
    "axes = Axes()\n",
    "axes.add_coordinate_labels(\n",
    "    font_size=20,\n",
    "    num_decimal_places=1,\n",
    ")\n",
    "\n",
    "theta = np.linspace(0, 2*PI, 100)\n",
    "x = np.cos(theta)\n",
    "y = np.sin(theta)\n",
    "\n",
    "line = m_line(x, y)\n",
    "scene.play(ShowCreation(line))\n",
    "\n",
    "scene.play(ShowCreation(axes))\n",
    "\n",
    "circle = Circle()\n",
    "circle.set_fill(BLUE, opacity=0.5)\n",
    "circle.set_stroke(BLUE_E, width=4)\n",
    "square = Square()\n",
    "\n",
    "scene.play(ShowCreation(square))\n",
    "scene.wait()\n",
    "scene.play(ReplacementTransform(square, circle))\n",
    "scene.wait()\n"
   ]
  },
  {
   "cell_type": "code",
   "execution_count": 2,
   "metadata": {},
   "outputs": [
    {
     "name": "stderr",
     "output_type": "stream",
     "text": [
      "                                                                                                                       \r"
     ]
    }
   ],
   "source": [
    "# Stretched 4 times in the vertical direction\n",
    "scene.play(circle.animate.stretch(4, dim=0))"
   ]
  },
  {
   "cell_type": "code",
   "execution_count": 3,
   "metadata": {},
   "outputs": [
    {
     "name": "stderr",
     "output_type": "stream",
     "text": [
      "                                                                                                                       \r"
     ]
    }
   ],
   "source": [
    "scene.play(circle.animate.stretch(0.5, dim=1))"
   ]
  },
  {
   "cell_type": "code",
   "execution_count": 6,
   "metadata": {},
   "outputs": [],
   "source": [
    "exit()"
   ]
  },
  {
   "cell_type": "code",
   "execution_count": 4,
   "metadata": {},
   "outputs": [
    {
     "name": "stderr",
     "output_type": "stream",
     "text": [
      "                                                                                                                       \r"
     ]
    }
   ],
   "source": [
    "\n",
    "for i in range(10):\n",
    "    scene.play(circle.animate.stretch(random.random()+0.6, dim=1))    \n",
    "    scene.wait(1)"
   ]
  },
  {
   "cell_type": "code",
   "execution_count": 5,
   "metadata": {},
   "outputs": [
    {
     "name": "stderr",
     "output_type": "stream",
     "text": [
      "                                                                                                                       \r"
     ]
    }
   ],
   "source": [
    "scene.play(ShowCreation(Square().shift([1, 1, 0])))"
   ]
  },
  {
   "cell_type": "code",
   "execution_count": 8,
   "metadata": {},
   "outputs": [],
   "source": [
    "sys.modules[__name__].quit()"
   ]
  },
  {
   "cell_type": "markdown",
   "metadata": {},
   "source": [
    "# Mehtod 2"
   ]
  },
  {
   "cell_type": "code",
   "execution_count": null,
   "metadata": {},
   "outputs": [],
   "source": [
    "from manim_imports_ext import *\n",
    "from geometry.utils import *"
   ]
  },
  {
   "cell_type": "code",
   "execution_count": 6,
   "metadata": {},
   "outputs": [
    {
     "name": "stdout",
     "output_type": "stream",
     "text": [
      "Namespace(color=None, config=False, file='C:\\\\Users\\\\50224\\\\AppData\\\\Roaming\\\\jupyter\\\\runtime\\\\kernel-0f725a65-311d-416a-a12b-b3df9b14ef25.json', file_name=None, finder=False, frame_rate=None, full_screen=True, gif=False, hd=False, leave_progress_bars=False, low_quality=False, medium_quality=False, open=False, quiet=False, resolution=None, save_pngs=False, scene_names=[], skip_animations=False, start_at_animation_number=None, transparent=False, uhd=False, video_dir=None, write_all=False, write_file=False)\n",
      "Warning: Using the default configuration file, which you can modify in c:\\baidunetdiskdownload\\code\\manim-kunyuan\\manim_ky\\manimlib\\default_config.yml\n",
      "        If you want to create a local configuration file, you can create a file named custom_config.yml, or run manimgl --config\n",
      "        \n"
     ]
    }
   ],
   "source": [
    "import sys\n",
    "import manimlib.config\n",
    "import manimlib.extract_scene\n",
    "import manimlib.utils.init_config\n",
    "\n",
    "args = manimlib.config.parse_cli()\n",
    "print(args)\n",
    "args.file = None\n",
    "# args.gif = True\n",
    "config = manimlib.config.get_configuration(args)\n"
   ]
  },
  {
   "cell_type": "code",
   "execution_count": 7,
   "metadata": {},
   "outputs": [],
   "source": [
    "class ParticleSimgleRay(Scene):\n",
    "\n",
    "    def construct(self):\n",
    "\n",
    "        origin, R = np.array([0, 0, 0]), 1.2\n",
    "        particle = circ(origin, R)\n",
    "        self.play(ShowCreation(particle))\n",
    "\n",
    "        for theta in np.linspace(PI/1.2, PI/1.2, 1):\n",
    "            self.add_rays(theta, particle, p=3)\n",
    "\n",
    "        axes = ThreeDAxes()\n",
    "        frame = self.camera.frame\n",
    "        # self.play(ShowCreation(axes))\n",
    "        # self.play(frame.animate.increment_theta(-30*DEGREES),\n",
    "        #           frame.animate.increment_phi(70 * DEGREES),\n",
    "        #           run_time = 1)\n",
    "        #\n",
    "        #\n",
    "        # self.play(\n",
    "        #     frame.animate.increment_phi(-10 * DEGREES),\n",
    "        #     frame.animate.increment_theta(-20 * DEGREES),\n",
    "        #     run_time=2\n",
    "        # )\n",
    "\n",
    "    def add_rays(self, theta1, particle, p=3):\n",
    "        point1 = particle.get_point_from_function(theta1)\n",
    "        point0 = np.array([-5, point1[1], point1[2]])\n",
    "\n",
    "        ray1 = Arrow(point0, point1,buff=0, thickness=0.01)\n",
    "        ray1.set_opacity(1)\n",
    "        ray1.set_color(GREEN)\n",
    "        self.play(GrowArrow(ray1, run_time=0.3))\n",
    "\n",
    "        theta_i = PI - theta1\n",
    "        theta_r = calc_theta_r(theta_i, 1, 1.33)\n",
    "\n",
    "        add_ray(self, point1, theta_i, theta_r, theta1, particle,\n",
    "                pn=p,\n",
    "                show_in_rays=True, show_out_rays=True,\n",
    "                color_out=GREEN)\n",
    "\n",
    "def add_ray(obj, point1, theta_i, theta_r, theta0, particle, pn,\n",
    "                    show_in_rays=True, show_out_rays=True, show_text=True,\n",
    "                    run_time = 0.4,\n",
    "                    color_in=None, color_out=None):\n",
    "\n",
    "    for p in range(pn):\n",
    "        rays = []\n",
    "\n",
    "        if show_out_rays:\n",
    "            out_ray, title = add_out_rays_title(theta_i, theta_r, p, point1, color=color_out, show_text=show_text)\n",
    "            rays.append(out_ray)\n",
    "            obj.play(GrowArrow(out_ray), run_time=run_time)\n",
    "            if show_out_rays and show_text:\n",
    "                obj.play(ShowCreation(title))\n",
    "\n",
    "        theta = theta0 - (PI - 2 * theta_r)\n",
    "        point2 = particle.get_point_from_function(theta)\n",
    "\n",
    "        if show_in_rays:\n",
    "            in_ray = add_in_rays(point1, point2, color=color_in)\n",
    "            if p != pn-1:\n",
    "                rays.append(in_ray)\n",
    "                obj.play(GrowArrow(in_ray), run_time=run_time)\n",
    "\n",
    "        point1 = point2\n",
    "        theta0 = theta\n"
   ]
  },
  {
   "cell_type": "code",
   "execution_count": 8,
   "metadata": {},
   "outputs": [
    {
     "name": "stdout",
     "output_type": "stream",
     "text": [
      "{'module': <module '__main__'>, 'scene_names': [], 'file_writer_config': {'write_to_movie': False, 'break_into_partial_movies': False, 'save_last_frame': False, 'save_pngs': False, 'png_mode': 'RGB', 'movie_file_extension': '.mp4', 'mirror_module_path': False, 'output_directory': '', 'file_name': None, 'input_file_path': '', 'open_file_upon_completion': False, 'show_file_location_upon_completion': False, 'quiet': False}, 'quiet': False, 'write_all': False, 'start_at_animation_number': None, 'preview': True, 'end_at_animation_number': None, 'leave_progress_bars': False, 'camera_config': {'pixel_width': 1920, 'pixel_height': 1080, 'frame_rate': 30, 'background_color': <Color #333>}, 'window_config': {'size': (1920, 1080)}, 'skip_animations': False}\n"
     ]
    }
   ],
   "source": [
    "config['module'] = sys.modules[__name__]\n",
    "\n",
    "scenes = manimlib.extract_scene.main(config)\n",
    "print(config)\n"
   ]
  },
  {
   "cell_type": "code",
   "execution_count": null,
   "metadata": {},
   "outputs": [
    {
     "name": "stderr",
     "output_type": "stream",
     "text": [
      "Animation 0: ShowCreationParametricCurve:   0%|                                                 | 0/30 [00:00<?, ?it/s]"
     ]
    }
   ],
   "source": [
    "for scene in scenes:\n",
    "    scene.run()"
   ]
  },
  {
   "cell_type": "code",
   "execution_count": null,
   "metadata": {},
   "outputs": [],
   "source": []
  }
 ],
 "metadata": {
  "kernelspec": {
   "display_name": "Python [conda env:manimgl]",
   "language": "python",
   "name": "conda-env-manimgl-py"
  },
  "language_info": {
   "codemirror_mode": {
    "name": "ipython",
    "version": 3
   },
   "file_extension": ".py",
   "mimetype": "text/x-python",
   "name": "python",
   "nbconvert_exporter": "python",
   "pygments_lexer": "ipython3",
   "version": "3.8.8"
  }
 },
 "nbformat": 4,
 "nbformat_minor": 4
}
