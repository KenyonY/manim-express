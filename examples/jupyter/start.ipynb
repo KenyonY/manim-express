{
 "cells": [
  {
   "cell_type": "markdown",
   "metadata": {},
   "source": [
    "Run jupyter's root on manim_ky/ dir."
   ]
  },
  {
   "cell_type": "markdown",
   "metadata": {},
   "source": [
    "# Method 1"
   ]
  },
  {
   "cell_type": "code",
   "execution_count": 21,
   "metadata": {},
   "outputs": [],
   "source": [
    "from manimlib.utils.tex_file_writing import tex_hash\n",
    "from manimlib.utils.directories import get_tex_dir\n",
    "import requests\n",
    "from helium import *\n",
    "import urllib\n",
    "from fake_headers import Headers\n",
    "from bs4 import BeautifulSoup\n",
    "from selenium.webdriver.common.by import By\n",
    "import pyperclip\n",
    "import os\n",
    "import re"
   ]
  },
  {
   "cell_type": "code",
   "execution_count": 2,
   "metadata": {},
   "outputs": [],
   "source": [
    "def chrome_helium():\n",
    "    url = \"https://viereck.ch/latex-to-svg/\"\n",
    "    driver = start_chrome(url, headless=False)\n",
    "    e1 = driver.find_element_by_tag_name(\"textarea\")\n",
    "    write(\"\\\\alpha\", into=e1)\n",
    "#     driver.find_element_by_id(\"environment\") # to choice align? It doesn't seem necessary..\n",
    "    e2 = driver.find_element_by_id(\"svgSourceCodeButton\")\n",
    "    e2.click()\n",
    "    e3 = driver.find_element_by_id(\"svgSourceCode\")\n",
    "    e3.send_keys(Keys.CONTROL, 'a')\n",
    "    e3.send_keys(Keys.CONTROL, 'c')\n",
    "    content = pyperclip.paste()\n",
    "    return content"
   ]
  },
  {
   "cell_type": "code",
   "execution_count": 17,
   "metadata": {},
   "outputs": [],
   "source": [
    "url = \"https://viereck.ch/latex-to-svg/\"\n",
    "driver = start_chrome(url, headless=False)\n",
    "e1 = driver.find_element_by_tag_name(\"textarea\")\n",
    "write(\"\\\\alpha\", into=e1)\n",
    "e2 = driver.find_element_by_id(\"svgSourceCodeButton\")\n",
    "e2.click()\n",
    "e3 = driver.find_element_by_id(\"svgSourceCode\")\n",
    "e3.send_keys(Keys.CONTROL, 'a')\n",
    "e3.send_keys(Keys.CONTROL, 'c')\n",
    "content = pyperclip.paste()"
   ]
  },
  {
   "cell_type": "code",
   "execution_count": 22,
   "metadata": {},
   "outputs": [],
   "source": [
    "\n"
   ]
  },
  {
   "cell_type": "code",
   "execution_count": 23,
   "metadata": {},
   "outputs": [
    {
     "data": {
      "text/plain": [
       "'<?xml version=\"1.0\" encoding=\"UTF-8\" standalone=\"no\" ?>\\r\\n<svg xmlns=\"http://www.w3.org/2000/svg\" width=\"96.608px\" height=\"33.224px\" viewBox=\"0 -1149.5 5337.6 1835.5\" xmlns:xlink=\"http://www.w3.org/1999/xlink\" style=\"\"><defs><path id=\"MJX-3-TEX-I-78\" d=\"M52 289Q59 331 106 386T222 442Q257 442 286 424T329 379Q371 442 430 442Q467 442 494 420T522 361Q522 332 508 314T481 292T458 288Q439 288 427 299T415 328Q415 374 465 391Q454 404 425 404Q412 404 406 402Q368 386 350 336Q290 115 290 78Q290 50 306 38T341 26Q378 26 414 59T463 140Q466 150 469 151T485 153H489Q504 153 504 145Q504 144 502 134Q486 77 440 33T333 -11Q263 -11 227 52Q186 -10 133 -10H127Q78 -10 57 16T35 71Q35 103 54 123T99 143Q142 143 142 101Q142 81 130 66T107 46T94 41L91 40Q91 39 97 36T113 29T132 26Q168 26 194 71Q203 87 217 139T245 247T261 313Q266 340 266 352Q266 380 251 392T217 404Q177 404 142 372T93 290Q91 281 88 280T72 278H58Q52 284 52 289Z\"></path><path id=\"MJX-3-TEX-N-3D\" d=\"M56 347Q56 360 70 367H707Q722 359 722 347Q722 336 708 328L390 327H72Q56 332 56 347ZM56 153Q56 168 72 173H708Q722 163 722 153Q722 140 707 133H70Q56 140 56 153Z\"></path><path id=\"MJX-3-TEX-N-73\" d=\"M295 316Q295 356 268 385T190 414Q154 414 128 401Q98 382 98 349Q97 344 98 336T114 312T157 287Q175 282 201 278T245 269T277 256Q294 248 310 236T342 195T359 133Q359 71 321 31T198 -10H190Q138 -10 94 26L86 19L77 10Q71 4 65 -1L54 -11H46H42Q39 -11 33 -5V74V132Q33 153 35 157T45 162H54Q66 162 70 158T75 146T82 119T101 77Q136 26 198 26Q295 26 295 104Q295 133 277 151Q257 175 194 187T111 210Q75 227 54 256T33 318Q33 357 50 384T93 424T143 442T187 447H198Q238 447 268 432L283 424L292 431Q302 440 314 448H322H326Q329 448 335 442V310L329 304H301Q295 310 295 316Z\"></path><path id=\"MJX-3-TEX-N-69\" d=\"M69 609Q69 637 87 653T131 669Q154 667 171 652T188 609Q188 579 171 564T129 549Q104 549 87 564T69 609ZM247 0Q232 3 143 3Q132 3 106 3T56 1L34 0H26V46H42Q70 46 91 49Q100 53 102 60T104 102V205V293Q104 345 102 359T88 378Q74 385 41 385H30V408Q30 431 32 431L42 432Q52 433 70 434T106 436Q123 437 142 438T171 441T182 442H185V62Q190 52 197 50T232 46H255V0H247Z\"></path><path id=\"MJX-3-TEX-N-6E\" d=\"M41 46H55Q94 46 102 60V68Q102 77 102 91T102 122T103 161T103 203Q103 234 103 269T102 328V351Q99 370 88 376T43 385H25V408Q25 431 27 431L37 432Q47 433 65 434T102 436Q119 437 138 438T167 441T178 442H181V402Q181 364 182 364T187 369T199 384T218 402T247 421T285 437Q305 442 336 442Q450 438 463 329Q464 322 464 190V104Q464 66 466 59T477 49Q498 46 526 46H542V0H534L510 1Q487 2 460 2T422 3Q319 3 310 0H302V46H318Q379 46 379 62Q380 64 380 200Q379 335 378 343Q372 371 358 385T334 402T308 404Q263 404 229 370Q202 343 195 315T187 232V168V108Q187 78 188 68T191 55T200 49Q221 46 249 46H265V0H257L234 1Q210 2 183 2T145 3Q42 3 33 0H25V46H41Z\"></path><path id=\"MJX-3-TEX-N-2061\" d=\"\"></path><path id=\"MJX-3-TEX-LO-28\" d=\"M180 96T180 250T205 541T266 770T353 944T444 1069T527 1150H555Q561 1144 561 1141Q561 1137 545 1120T504 1072T447 995T386 878T330 721T288 513T272 251Q272 133 280 56Q293 -87 326 -209T399 -405T475 -531T536 -609T561 -640Q561 -643 555 -649H527Q483 -612 443 -568T353 -443T266 -270T205 -41Z\"></path><path id=\"MJX-3-TEX-I-3C0\" d=\"M132 -11Q98 -11 98 22V33L111 61Q186 219 220 334L228 358H196Q158 358 142 355T103 336Q92 329 81 318T62 297T53 285Q51 284 38 284Q19 284 19 294Q19 300 38 329T93 391T164 429Q171 431 389 431Q549 431 553 430Q573 423 573 402Q573 371 541 360Q535 358 472 358H408L405 341Q393 269 393 222Q393 170 402 129T421 65T431 37Q431 20 417 5T381 -10Q370 -10 363 -7T347 17T331 77Q330 86 330 121Q330 170 339 226T357 318T367 358H269L268 354Q268 351 249 275T206 114T175 17Q164 -11 132 -11Z\"></path><path id=\"MJX-3-TEX-N-32\" d=\"M109 429Q82 429 66 447T50 491Q50 562 103 614T235 666Q326 666 387 610T449 465Q449 422 429 383T381 315T301 241Q265 210 201 149L142 93L218 92Q375 92 385 97Q392 99 409 186V189H449V186Q448 183 436 95T421 3V0H50V19V31Q50 38 56 46T86 81Q115 113 136 137Q145 147 170 174T204 211T233 244T261 278T284 308T305 340T320 369T333 401T340 431T343 464Q343 527 309 573T212 619Q179 619 154 602T119 569T109 550Q109 549 114 549Q132 549 151 535T170 489Q170 464 154 447T109 429Z\"></path><path id=\"MJX-3-TEX-LO-29\" d=\"M35 1138Q35 1150 51 1150H56H69Q113 1113 153 1069T243 944T330 771T391 541T416 250T391 -40T330 -270T243 -443T152 -568T69 -649H56Q43 -649 39 -647T35 -637Q65 -607 110 -548Q283 -316 316 56Q324 133 324 251Q324 368 316 445Q278 877 48 1123Q36 1137 35 1138Z\"></path></defs><g stroke=\"currentColor\" fill=\"currentColor\" stroke-width=\"0\" transform=\"matrix(1 0 0 -1 0 0)\"><g data-mml-node=\"math\"><g data-mml-node=\"mi\"><use xlink:href=\"#MJX-3-TEX-I-78\"></use></g><g data-mml-node=\"mo\" transform=\"translate(849.8, 0)\"><use xlink:href=\"#MJX-3-TEX-N-3D\"></use></g><g data-mml-node=\"mi\" transform=\"translate(1905.6, 0)\"><use xlink:href=\"#MJX-3-TEX-N-73\"></use><use xlink:href=\"#MJX-3-TEX-N-69\" transform=\"translate(394, 0)\"></use><use xlink:href=\"#MJX-3-TEX-N-6E\" transform=\"translate(672, 0)\"></use></g><g data-mml-node=\"mo\" transform=\"translate(3133.6, 0)\"><use xlink:href=\"#MJX-3-TEX-N-2061\"></use></g><g data-mml-node=\"mrow\" transform=\"translate(3133.6, 0)\"><g data-mml-node=\"mo\"><use xlink:href=\"#MJX-3-TEX-LO-28\"></use></g><g data-mml-node=\"mfrac\" transform=\"translate(597, 0)\"><g data-mml-node=\"mi\" transform=\"translate(220, 676)\"><use xlink:href=\"#MJX-3-TEX-I-3C0\"></use></g><g data-mml-node=\"mn\" transform=\"translate(255, -686)\"><use xlink:href=\"#MJX-3-TEX-N-32\"></use></g><rect width=\"770\" height=\"60\" x=\"120\" y=\"220\"></rect></g><g data-mml-node=\"mo\" transform=\"translate(1607, 0)\"><use xlink:href=\"#MJX-3-TEX-LO-29\"></use></g></g></g></g></svg>'"
      ]
     },
     "execution_count": 23,
     "metadata": {},
     "output_type": "execute_result"
    }
   ],
   "source": [
    "content"
   ]
  },
  {
   "cell_type": "code",
   "execution_count": 1,
   "metadata": {},
   "outputs": [
    {
     "ename": "ModuleNotFoundError",
     "evalue": "No module named 'express'",
     "output_type": "error",
     "traceback": [
      "\u001b[1;31m---------------------------------------------------------------------------\u001b[0m",
      "\u001b[1;31mModuleNotFoundError\u001b[0m                       Traceback (most recent call last)",
      "\u001b[1;32m<ipython-input-1-6e8cae39e8fc>\u001b[0m in \u001b[0;36m<module>\u001b[1;34m\u001b[0m\n\u001b[0;32m      1\u001b[0m \u001b[1;32mfrom\u001b[0m \u001b[0mmanimlib\u001b[0m \u001b[1;32mimport\u001b[0m \u001b[1;33m*\u001b[0m\u001b[1;33m\u001b[0m\u001b[1;33m\u001b[0m\u001b[0m\n\u001b[1;32m----> 2\u001b[1;33m \u001b[1;32mfrom\u001b[0m \u001b[0mexpress\u001b[0m\u001b[1;33m.\u001b[0m\u001b[0meager\u001b[0m \u001b[1;32mimport\u001b[0m \u001b[1;33m*\u001b[0m\u001b[1;33m\u001b[0m\u001b[1;33m\u001b[0m\u001b[0m\n\u001b[0m\u001b[0;32m      3\u001b[0m \u001b[1;32mfrom\u001b[0m \u001b[0mexpress\u001b[0m\u001b[1;33m.\u001b[0m\u001b[0mutils\u001b[0m \u001b[1;32mimport\u001b[0m \u001b[0mm_line\u001b[0m\u001b[1;33m,\u001b[0m \u001b[0mm_scatter\u001b[0m\u001b[1;33m\u001b[0m\u001b[1;33m\u001b[0m\u001b[0m\n\u001b[0;32m      4\u001b[0m \u001b[1;32mimport\u001b[0m \u001b[0mrandom\u001b[0m\u001b[1;33m\u001b[0m\u001b[1;33m\u001b[0m\u001b[0m\n\u001b[0;32m      5\u001b[0m \u001b[1;33m\u001b[0m\u001b[0m\n",
      "\u001b[1;31mModuleNotFoundError\u001b[0m: No module named 'express'"
     ]
    }
   ],
   "source": [
    "from manimlib import *\n",
    "from express.eager import *\n",
    "from express.utils import m_line, m_scatter\n",
    "import random\n",
    "\n",
    "scene = JupyterModeScene(write_file=False)\n",
    "circle = Circle()\n",
    "axes = Axes()\n",
    "axes.add_coordinate_labels(\n",
    "    font_size=20,\n",
    "    num_decimal_places=1,\n",
    ")\n",
    "\n",
    "theta = np.linspace(0, 2*PI, 100)\n",
    "x = np.cos(theta)\n",
    "y = np.sin(theta)\n",
    "\n",
    "line = m_line(x, y)\n",
    "scene.play(ShowCreation(line))\n",
    "\n",
    "scene.play(ShowCreation(axes))\n",
    "\n",
    "circle = Circle()\n",
    "circle.set_fill(BLUE, opacity=0.5)\n",
    "circle.set_stroke(BLUE_E, width=4)\n",
    "square = Square()\n",
    "\n",
    "scene.play(ShowCreation(square))\n",
    "scene.wait()\n",
    "scene.play(ReplacementTransform(square, circle))\n",
    "scene.wait()\n"
   ]
  },
  {
   "cell_type": "code",
   "execution_count": 2,
   "metadata": {},
   "outputs": [
    {
     "name": "stderr",
     "output_type": "stream",
     "text": [
      "                                                                                                                       \r"
     ]
    }
   ],
   "source": [
    "# Stretched 4 times in the vertical direction\n",
    "scene.play(circle.animate.stretch(4, dim=0))"
   ]
  },
  {
   "cell_type": "code",
   "execution_count": 3,
   "metadata": {},
   "outputs": [
    {
     "name": "stderr",
     "output_type": "stream",
     "text": [
      "                                                                                                                       \r"
     ]
    }
   ],
   "source": [
    "scene.play(circle.animate.stretch(0.5, dim=1))"
   ]
  },
  {
   "cell_type": "code",
   "execution_count": 6,
   "metadata": {},
   "outputs": [],
   "source": [
    "exit()"
   ]
  },
  {
   "cell_type": "code",
   "execution_count": 4,
   "metadata": {},
   "outputs": [
    {
     "name": "stderr",
     "output_type": "stream",
     "text": [
      "                                                                                                                       \r"
     ]
    }
   ],
   "source": [
    "\n",
    "for i in range(10):\n",
    "    scene.play(circle.animate.stretch(random.random()+0.6, dim=1))    \n",
    "    scene.wait(1)"
   ]
  },
  {
   "cell_type": "code",
   "execution_count": 5,
   "metadata": {},
   "outputs": [
    {
     "name": "stderr",
     "output_type": "stream",
     "text": [
      "                                                                                                                       \r"
     ]
    }
   ],
   "source": [
    "scene.play(ShowCreation(Square().shift([1, 1, 0])))"
   ]
  },
  {
   "cell_type": "code",
   "execution_count": 8,
   "metadata": {},
   "outputs": [],
   "source": [
    "sys.modules[__name__].quit()"
   ]
  },
  {
   "cell_type": "markdown",
   "metadata": {},
   "source": [
    "# Mehtod 2"
   ]
  },
  {
   "cell_type": "code",
   "execution_count": null,
   "metadata": {},
   "outputs": [],
   "source": [
    "from manim_imports_ext import *\n",
    "from geometry.utils import *"
   ]
  },
  {
   "cell_type": "code",
   "execution_count": 6,
   "metadata": {},
   "outputs": [
    {
     "name": "stdout",
     "output_type": "stream",
     "text": [
      "Namespace(color=None, config=False, file='C:\\\\Users\\\\50224\\\\AppData\\\\Roaming\\\\jupyter\\\\runtime\\\\kernel-0f725a65-311d-416a-a12b-b3df9b14ef25.json', file_name=None, finder=False, frame_rate=None, full_screen=True, gif=False, hd=False, leave_progress_bars=False, low_quality=False, medium_quality=False, open=False, quiet=False, resolution=None, save_pngs=False, scene_names=[], skip_animations=False, start_at_animation_number=None, transparent=False, uhd=False, video_dir=None, write_all=False, write_file=False)\n",
      "Warning: Using the default configuration file, which you can modify in c:\\baidunetdiskdownload\\code\\manim-kunyuan\\manim_ky\\manimlib\\default_config.yml\n",
      "        If you want to create a local configuration file, you can create a file named custom_config.yml, or run manimgl --config\n",
      "        \n"
     ]
    }
   ],
   "source": [
    "import sys\n",
    "import manimlib.config\n",
    "import manimlib.extract_scene\n",
    "import manimlib.utils.init_config\n",
    "\n",
    "args = manimlib.config.parse_cli()\n",
    "print(args)\n",
    "args.file = None\n",
    "# args.gif = True\n",
    "config = manimlib.config.get_configuration(args)\n"
   ]
  },
  {
   "cell_type": "code",
   "execution_count": 7,
   "metadata": {},
   "outputs": [],
   "source": [
    "class ParticleSimgleRay(Scene):\n",
    "\n",
    "    def construct(self):\n",
    "\n",
    "        origin, R = np.array([0, 0, 0]), 1.2\n",
    "        particle = circ(origin, R)\n",
    "        self.play(ShowCreation(particle))\n",
    "\n",
    "        for theta in np.linspace(PI/1.2, PI/1.2, 1):\n",
    "            self.add_rays(theta, particle, p=3)\n",
    "\n",
    "        axes = ThreeDAxes()\n",
    "        frame = self.camera.frame\n",
    "        # self.play(ShowCreation(axes))\n",
    "        # self.play(frame.animate.increment_theta(-30*DEGREES),\n",
    "        #           frame.animate.increment_phi(70 * DEGREES),\n",
    "        #           run_time = 1)\n",
    "        #\n",
    "        #\n",
    "        # self.play(\n",
    "        #     frame.animate.increment_phi(-10 * DEGREES),\n",
    "        #     frame.animate.increment_theta(-20 * DEGREES),\n",
    "        #     run_time=2\n",
    "        # )\n",
    "\n",
    "    def add_rays(self, theta1, particle, p=3):\n",
    "        point1 = particle.get_point_from_function(theta1)\n",
    "        point0 = np.array([-5, point1[1], point1[2]])\n",
    "\n",
    "        ray1 = Arrow(point0, point1,buff=0, thickness=0.01)\n",
    "        ray1.set_opacity(1)\n",
    "        ray1.set_color(GREEN)\n",
    "        self.play(GrowArrow(ray1, run_time=0.3))\n",
    "\n",
    "        theta_i = PI - theta1\n",
    "        theta_r = calc_theta_r(theta_i, 1, 1.33)\n",
    "\n",
    "        add_ray(self, point1, theta_i, theta_r, theta1, particle,\n",
    "                pn=p,\n",
    "                show_in_rays=True, show_out_rays=True,\n",
    "                color_out=GREEN)\n",
    "\n",
    "def add_ray(obj, point1, theta_i, theta_r, theta0, particle, pn,\n",
    "                    show_in_rays=True, show_out_rays=True, show_text=True,\n",
    "                    run_time = 0.4,\n",
    "                    color_in=None, color_out=None):\n",
    "\n",
    "    for p in range(pn):\n",
    "        rays = []\n",
    "\n",
    "        if show_out_rays:\n",
    "            out_ray, title = add_out_rays_title(theta_i, theta_r, p, point1, color=color_out, show_text=show_text)\n",
    "            rays.append(out_ray)\n",
    "            obj.play(GrowArrow(out_ray), run_time=run_time)\n",
    "            if show_out_rays and show_text:\n",
    "                obj.play(ShowCreation(title))\n",
    "\n",
    "        theta = theta0 - (PI - 2 * theta_r)\n",
    "        point2 = particle.get_point_from_function(theta)\n",
    "\n",
    "        if show_in_rays:\n",
    "            in_ray = add_in_rays(point1, point2, color=color_in)\n",
    "            if p != pn-1:\n",
    "                rays.append(in_ray)\n",
    "                obj.play(GrowArrow(in_ray), run_time=run_time)\n",
    "\n",
    "        point1 = point2\n",
    "        theta0 = theta\n"
   ]
  },
  {
   "cell_type": "code",
   "execution_count": 8,
   "metadata": {},
   "outputs": [
    {
     "name": "stdout",
     "output_type": "stream",
     "text": [
      "{'module': <module '__main__'>, 'scene_names': [], 'file_writer_config': {'write_to_movie': False, 'break_into_partial_movies': False, 'save_last_frame': False, 'save_pngs': False, 'png_mode': 'RGB', 'movie_file_extension': '.mp4', 'mirror_module_path': False, 'output_directory': '', 'file_name': None, 'input_file_path': '', 'open_file_upon_completion': False, 'show_file_location_upon_completion': False, 'quiet': False}, 'quiet': False, 'write_all': False, 'start_at_animation_number': None, 'preview': True, 'end_at_animation_number': None, 'leave_progress_bars': False, 'camera_config': {'pixel_width': 1920, 'pixel_height': 1080, 'frame_rate': 30, 'background_color': <Color #333>}, 'window_config': {'size': (1920, 1080)}, 'skip_animations': False}\n"
     ]
    }
   ],
   "source": [
    "config['module'] = sys.modules[__name__]\n",
    "\n",
    "scenes = manimlib.extract_scene.main(config)\n",
    "print(config)\n"
   ]
  },
  {
   "cell_type": "code",
   "execution_count": null,
   "metadata": {},
   "outputs": [
    {
     "name": "stderr",
     "output_type": "stream",
     "text": [
      "Animation 0: ShowCreationParametricCurve:   0%|                                                 | 0/30 [00:00<?, ?it/s]"
     ]
    }
   ],
   "source": [
    "for scene in scenes:\n",
    "    scene.run()"
   ]
  },
  {
   "cell_type": "code",
   "execution_count": null,
   "metadata": {},
   "outputs": [],
   "source": []
  }
 ],
 "metadata": {
  "kernelspec": {
   "display_name": "Python [conda env:manimgl]",
   "language": "python",
   "name": "conda-env-manimgl-py"
  },
  "language_info": {
   "codemirror_mode": {
    "name": "ipython",
    "version": 3
   },
   "file_extension": ".py",
   "mimetype": "text/x-python",
   "name": "python",
   "nbconvert_exporter": "python",
   "pygments_lexer": "ipython3",
   "version": "3.8.8"
  }
 },
 "nbformat": 4,
 "nbformat_minor": 4
}
